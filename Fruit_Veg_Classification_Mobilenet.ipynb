{
 "cells": [
  {
   "cell_type": "code",
   "execution_count": 123,
   "outputs": [],
   "source": [
    "# This Python 3 environment comes with many helpful analytics libraries installed\n",
    "# It is defined by the kaggle/python Docker image: https://github.com/kaggle/docker-python\n",
    "# For example, here's several helpful packages to load\n",
    "\n",
    "import numpy as np # linear algebra\n",
    "import pandas as pd # data processing, CSV file I/O (e.g. pd.read_csv)\n",
    "\n",
    "# Input data files are available in the read-only \"../input/\" directory\n",
    "# For example, running this (by clicking run or pressing Shift+Enter) will list all files under the input directory\n",
    "\n",
    "import os\n",
    "for dirname, _, filenames in os.walk('/Database'):\n",
    "    for filename in filenames:\n",
    "        print(os.path.join(dirname, filename))\n",
    "\n",
    "# You can write up to 20GB to the current directory (/kaggle/working/) that gets preserved as output when you create a version using \"Save & Run All\" \n",
    "# You can also write temporary files to /kaggle/temp/, but they won't be saved outside of the current session"
   ],
   "metadata": {
    "collapsed": false,
    "ExecuteTime": {
     "end_time": "2023-11-14T22:18:01.342073Z",
     "start_time": "2023-11-14T22:18:01.249065700Z"
    }
   },
   "id": "f4402ccb"
  },
  {
   "cell_type": "code",
   "execution_count": 124,
   "id": "3a80f008",
   "metadata": {
    "execution": {
     "iopub.execute_input": "2021-11-02T04:12:59.131000Z",
     "iopub.status.busy": "2021-11-02T04:12:59.129810Z",
     "iopub.status.idle": "2021-11-02T04:13:04.578664Z",
     "shell.execute_reply": "2021-11-02T04:13:04.577747Z",
     "shell.execute_reply.started": "2021-11-02T04:10:42.022652Z"
    },
    "papermill": {
     "duration": 5.486991,
     "end_time": "2021-11-02T04:13:04.578852",
     "exception": false,
     "start_time": "2021-11-02T04:12:59.091861",
     "status": "completed"
    },
    "tags": [],
    "ExecuteTime": {
     "end_time": "2023-11-14T22:18:01.342073Z",
     "start_time": "2023-11-14T22:18:01.285882700Z"
    }
   },
   "outputs": [
    {
     "name": "stdout",
     "output_type": "stream",
     "text": [
      "2.14.0\n"
     ]
    }
   ],
   "source": [
    "import numpy as np\n",
    "import pandas as pd\n",
    "from pathlib import Path\n",
    "import os.path\n",
    "import matplotlib.pyplot as plt\n",
    "import tensorflow as tf\n",
    "from tensorflow.keras.preprocessing.image import load_img,img_to_array\n",
    "print(tf.__version__)"
   ]
  },
  {
   "cell_type": "code",
   "execution_count": 125,
   "id": "4dffca75",
   "metadata": {
    "execution": {
     "iopub.execute_input": "2021-11-02T04:13:04.639711Z",
     "iopub.status.busy": "2021-11-02T04:13:04.639013Z",
     "iopub.status.idle": "2021-11-02T04:13:04.704474Z",
     "shell.execute_reply": "2021-11-02T04:13:04.703891Z",
     "shell.execute_reply.started": "2021-11-02T04:10:53.286987Z"
    },
    "papermill": {
     "duration": 0.097465,
     "end_time": "2021-11-02T04:13:04.704628",
     "exception": false,
     "start_time": "2021-11-02T04:13:04.607163",
     "status": "completed"
    },
    "tags": [],
    "ExecuteTime": {
     "end_time": "2023-11-14T22:18:01.342073Z",
     "start_time": "2023-11-14T22:18:01.291102500Z"
    }
   },
   "outputs": [],
   "source": [
    "# Create a list with the filepaths for training and testing\n",
    "train_dir = Path('/Database/Train')\n",
    "train_filepaths = list(train_dir.glob(r'**/*.jpg'))"
   ]
  },
  {
   "cell_type": "code",
   "execution_count": 126,
   "id": "62e9db13",
   "metadata": {
    "execution": {
     "iopub.execute_input": "2021-11-02T04:13:04.763397Z",
     "iopub.status.busy": "2021-11-02T04:13:04.762653Z",
     "iopub.status.idle": "2021-11-02T04:13:04.797643Z",
     "shell.execute_reply": "2021-11-02T04:13:04.798136Z",
     "shell.execute_reply.started": "2021-11-02T04:10:56.870550Z"
    },
    "papermill": {
     "duration": 0.065625,
     "end_time": "2021-11-02T04:13:04.798361",
     "exception": false,
     "start_time": "2021-11-02T04:13:04.732736",
     "status": "completed"
    },
    "tags": [],
    "ExecuteTime": {
     "end_time": "2023-11-14T22:18:01.342073Z",
     "start_time": "2023-11-14T22:18:01.295540500Z"
    }
   },
   "outputs": [],
   "source": [
    "test_dir = Path('/Database/Test')\n",
    "test_filepaths = list(test_dir.glob(r'**/*.jpg'))"
   ]
  },
  {
   "cell_type": "code",
   "execution_count": 127,
   "id": "d9efbe8a",
   "metadata": {
    "execution": {
     "iopub.execute_input": "2021-11-02T04:13:04.857921Z",
     "iopub.status.busy": "2021-11-02T04:13:04.857316Z",
     "iopub.status.idle": "2021-11-02T04:13:04.891899Z",
     "shell.execute_reply": "2021-11-02T04:13:04.892424Z",
     "shell.execute_reply.started": "2021-11-02T04:11:08.545135Z"
    },
    "papermill": {
     "duration": 0.065947,
     "end_time": "2021-11-02T04:13:04.892592",
     "exception": false,
     "start_time": "2021-11-02T04:13:04.826645",
     "status": "completed"
    },
    "tags": [],
    "ExecuteTime": {
     "end_time": "2023-11-14T22:18:01.342073Z",
     "start_time": "2023-11-14T22:18:01.298782500Z"
    }
   },
   "outputs": [],
   "source": [
    "val_dir = Path('/Database/Validation')\n",
    "val_filepaths = list(test_dir.glob(r'**/*.jpg'))"
   ]
  },
  {
   "cell_type": "code",
   "execution_count": 128,
   "id": "e5f09b5c",
   "metadata": {
    "execution": {
     "iopub.execute_input": "2021-11-02T04:13:04.951015Z",
     "iopub.status.busy": "2021-11-02T04:13:04.950415Z",
     "iopub.status.idle": "2021-11-02T04:13:04.957036Z",
     "shell.execute_reply": "2021-11-02T04:13:04.957533Z",
     "shell.execute_reply.started": "2021-11-02T04:11:10.796825Z"
    },
    "papermill": {
     "duration": 0.037108,
     "end_time": "2021-11-02T04:13:04.957704",
     "exception": false,
     "start_time": "2021-11-02T04:13:04.920596",
     "status": "completed"
    },
    "tags": [],
    "ExecuteTime": {
     "end_time": "2023-11-14T22:18:01.342073Z",
     "start_time": "2023-11-14T22:18:01.302363200Z"
    }
   },
   "outputs": [],
   "source": [
    "def image_processing(filepath):\n",
    "    \"\"\" Create a DataFrame with the filepath and the labels of the pictures\n",
    "    \"\"\"\n",
    "\n",
    "    labels = [str(filepath[i]).split(\"/\")[-2] \\\n",
    "              for i in range(len(filepath))]\n",
    "\n",
    "    filepath = pd.Series(filepath, name='Filepath').astype(str)\n",
    "    labels = pd.Series(labels, name='Label')\n",
    "\n",
    "    # Concatenate filepaths and labels\n",
    "    df = pd.concat([filepath, labels], axis=1)\n",
    "\n",
    "    # Shuffle the DataFrame and reset index\n",
    "    df = df.sample(frac=1).reset_index(drop = True)\n",
    "    \n",
    "    return df"
   ]
  },
  {
   "cell_type": "code",
   "execution_count": 129,
   "id": "576b8db6",
   "metadata": {
    "execution": {
     "iopub.execute_input": "2021-11-02T04:13:05.033692Z",
     "iopub.status.busy": "2021-11-02T04:13:05.032983Z",
     "iopub.status.idle": "2021-11-02T04:13:05.042744Z",
     "shell.execute_reply": "2021-11-02T04:13:05.042101Z",
     "shell.execute_reply.started": "2021-11-02T04:11:22.983906Z"
    },
    "papermill": {
     "duration": 0.057696,
     "end_time": "2021-11-02T04:13:05.042885",
     "exception": false,
     "start_time": "2021-11-02T04:13:04.985189",
     "status": "completed"
    },
    "tags": [],
    "ExecuteTime": {
     "end_time": "2023-11-14T22:18:01.342073Z",
     "start_time": "2023-11-14T22:18:01.307070200Z"
    }
   },
   "outputs": [],
   "source": [
    "train_df = image_processing(train_filepaths)\n",
    "test_df = image_processing(test_filepaths)\n",
    "val_df = image_processing(val_filepaths)"
   ]
  },
  {
   "cell_type": "code",
   "execution_count": 130,
   "id": "b3f17d3f",
   "metadata": {
    "execution": {
     "iopub.execute_input": "2021-11-02T04:13:05.114767Z",
     "iopub.status.busy": "2021-11-02T04:13:05.113836Z",
     "iopub.status.idle": "2021-11-02T04:13:05.117489Z",
     "shell.execute_reply": "2021-11-02T04:13:05.118083Z",
     "shell.execute_reply.started": "2021-11-02T04:11:26.152954Z"
    },
    "papermill": {
     "duration": 0.047893,
     "end_time": "2021-11-02T04:13:05.118332",
     "exception": false,
     "start_time": "2021-11-02T04:13:05.070439",
     "status": "completed"
    },
    "tags": [],
    "ExecuteTime": {
     "end_time": "2023-11-14T22:18:01.342073Z",
     "start_time": "2023-11-14T22:18:01.313030300Z"
    }
   },
   "outputs": [
    {
     "name": "stdout",
     "output_type": "stream",
     "text": [
      "-- Training set --\n",
      "\n",
      "Number of pictures: 0\n",
      "\n",
      "Number of different labels: 0\n",
      "\n",
      "Labels: []\n"
     ]
    }
   ],
   "source": [
    "print('-- Training set --\\n')\n",
    "print(f'Number of pictures: {train_df.shape[0]}\\n')\n",
    "print(f'Number of different labels: {len(train_df.Label.unique())}\\n')\n",
    "print(f'Labels: {train_df.Label.unique()}')"
   ]
  },
  {
   "cell_type": "code",
   "execution_count": 131,
   "id": "23a5eb3b",
   "metadata": {
    "execution": {
     "iopub.execute_input": "2021-11-02T04:13:05.181982Z",
     "iopub.status.busy": "2021-11-02T04:13:05.180982Z",
     "iopub.status.idle": "2021-11-02T04:13:05.192657Z",
     "shell.execute_reply": "2021-11-02T04:13:05.192121Z",
     "shell.execute_reply.started": "2021-11-02T04:11:29.331819Z"
    },
    "papermill": {
     "duration": 0.04621,
     "end_time": "2021-11-02T04:13:05.192799",
     "exception": false,
     "start_time": "2021-11-02T04:13:05.146589",
     "status": "completed"
    },
    "tags": [],
    "ExecuteTime": {
     "end_time": "2023-11-14T22:18:01.342073Z",
     "start_time": "2023-11-14T22:18:01.318478700Z"
    }
   },
   "outputs": [
    {
     "data": {
      "text/plain": "Empty DataFrame\nColumns: [Filepath, Label]\nIndex: []",
      "text/html": "<div>\n<style scoped>\n    .dataframe tbody tr th:only-of-type {\n        vertical-align: middle;\n    }\n\n    .dataframe tbody tr th {\n        vertical-align: top;\n    }\n\n    .dataframe thead th {\n        text-align: right;\n    }\n</style>\n<table border=\"1\" class=\"dataframe\">\n  <thead>\n    <tr style=\"text-align: right;\">\n      <th></th>\n      <th>Filepath</th>\n      <th>Label</th>\n    </tr>\n  </thead>\n  <tbody>\n  </tbody>\n</table>\n</div>"
     },
     "execution_count": 131,
     "metadata": {},
     "output_type": "execute_result"
    }
   ],
   "source": [
    "train_df.head(5)"
   ]
  },
  {
   "cell_type": "code",
   "execution_count": 132,
   "id": "01595bc1",
   "metadata": {
    "execution": {
     "iopub.execute_input": "2021-11-02T04:13:05.284301Z",
     "iopub.status.busy": "2021-11-02T04:13:05.283627Z",
     "iopub.status.idle": "2021-11-02T04:13:16.097978Z",
     "shell.execute_reply": "2021-11-02T04:13:16.098495Z",
     "shell.execute_reply.started": "2021-11-02T04:11:31.820149Z"
    },
    "papermill": {
     "duration": 10.871892,
     "end_time": "2021-11-02T04:13:16.098658",
     "exception": false,
     "start_time": "2021-11-02T04:13:05.226766",
     "status": "completed"
    },
    "tags": [],
    "ExecuteTime": {
     "end_time": "2023-11-14T22:18:02.539516700Z",
     "start_time": "2023-11-14T22:18:01.322270600Z"
    }
   },
   "outputs": [
    {
     "ename": "KeyError",
     "evalue": "0",
     "output_type": "error",
     "traceback": [
      "\u001B[1;31m---------------------------------------------------------------------------\u001B[0m",
      "\u001B[1;31mValueError\u001B[0m                                Traceback (most recent call last)",
      "File \u001B[1;32mD:\\Iseng\\Fruit_Vegetable_Recognition-master\\venv\\Lib\\site-packages\\pandas\\core\\indexes\\range.py:414\u001B[0m, in \u001B[0;36mRangeIndex.get_loc\u001B[1;34m(self, key)\u001B[0m\n\u001B[0;32m    413\u001B[0m \u001B[38;5;28;01mtry\u001B[39;00m:\n\u001B[1;32m--> 414\u001B[0m     \u001B[38;5;28;01mreturn\u001B[39;00m \u001B[38;5;28mself\u001B[39m\u001B[38;5;241m.\u001B[39m_range\u001B[38;5;241m.\u001B[39mindex(new_key)\n\u001B[0;32m    415\u001B[0m \u001B[38;5;28;01mexcept\u001B[39;00m \u001B[38;5;167;01mValueError\u001B[39;00m \u001B[38;5;28;01mas\u001B[39;00m err:\n",
      "\u001B[1;31mValueError\u001B[0m: 0 is not in range",
      "\nThe above exception was the direct cause of the following exception:\n",
      "\u001B[1;31mKeyError\u001B[0m                                  Traceback (most recent call last)",
      "Cell \u001B[1;32mIn[132], line 9\u001B[0m\n\u001B[0;32m      5\u001B[0m fig, axes \u001B[38;5;241m=\u001B[39m plt\u001B[38;5;241m.\u001B[39msubplots(nrows\u001B[38;5;241m=\u001B[39m\u001B[38;5;241m6\u001B[39m, ncols\u001B[38;5;241m=\u001B[39m\u001B[38;5;241m6\u001B[39m, figsize\u001B[38;5;241m=\u001B[39m(\u001B[38;5;241m8\u001B[39m, \u001B[38;5;241m7\u001B[39m),\n\u001B[0;32m      6\u001B[0m                         subplot_kw\u001B[38;5;241m=\u001B[39m{\u001B[38;5;124m'\u001B[39m\u001B[38;5;124mxticks\u001B[39m\u001B[38;5;124m'\u001B[39m: [], \u001B[38;5;124m'\u001B[39m\u001B[38;5;124myticks\u001B[39m\u001B[38;5;124m'\u001B[39m: []})\n\u001B[0;32m      8\u001B[0m \u001B[38;5;28;01mfor\u001B[39;00m i, ax \u001B[38;5;129;01min\u001B[39;00m \u001B[38;5;28menumerate\u001B[39m(axes\u001B[38;5;241m.\u001B[39mflat):\n\u001B[1;32m----> 9\u001B[0m     ax\u001B[38;5;241m.\u001B[39mimshow(plt\u001B[38;5;241m.\u001B[39mimread(\u001B[43mdf_unique\u001B[49m\u001B[38;5;241;43m.\u001B[39;49m\u001B[43mFilepath\u001B[49m\u001B[43m[\u001B[49m\u001B[43mi\u001B[49m\u001B[43m]\u001B[49m))\n\u001B[0;32m     10\u001B[0m     ax\u001B[38;5;241m.\u001B[39mset_title(df_unique\u001B[38;5;241m.\u001B[39mLabel[i], fontsize \u001B[38;5;241m=\u001B[39m \u001B[38;5;241m12\u001B[39m)\n\u001B[0;32m     11\u001B[0m plt\u001B[38;5;241m.\u001B[39mtight_layout(pad\u001B[38;5;241m=\u001B[39m\u001B[38;5;241m0.5\u001B[39m)\n",
      "File \u001B[1;32mD:\\Iseng\\Fruit_Vegetable_Recognition-master\\venv\\Lib\\site-packages\\pandas\\core\\series.py:1040\u001B[0m, in \u001B[0;36mSeries.__getitem__\u001B[1;34m(self, key)\u001B[0m\n\u001B[0;32m   1037\u001B[0m     \u001B[38;5;28;01mreturn\u001B[39;00m \u001B[38;5;28mself\u001B[39m\u001B[38;5;241m.\u001B[39m_values[key]\n\u001B[0;32m   1039\u001B[0m \u001B[38;5;28;01melif\u001B[39;00m key_is_scalar:\n\u001B[1;32m-> 1040\u001B[0m     \u001B[38;5;28;01mreturn\u001B[39;00m \u001B[38;5;28;43mself\u001B[39;49m\u001B[38;5;241;43m.\u001B[39;49m\u001B[43m_get_value\u001B[49m\u001B[43m(\u001B[49m\u001B[43mkey\u001B[49m\u001B[43m)\u001B[49m\n\u001B[0;32m   1042\u001B[0m \u001B[38;5;66;03m# Convert generator to list before going through hashable part\u001B[39;00m\n\u001B[0;32m   1043\u001B[0m \u001B[38;5;66;03m# (We will iterate through the generator there to check for slices)\u001B[39;00m\n\u001B[0;32m   1044\u001B[0m \u001B[38;5;28;01mif\u001B[39;00m is_iterator(key):\n",
      "File \u001B[1;32mD:\\Iseng\\Fruit_Vegetable_Recognition-master\\venv\\Lib\\site-packages\\pandas\\core\\series.py:1156\u001B[0m, in \u001B[0;36mSeries._get_value\u001B[1;34m(self, label, takeable)\u001B[0m\n\u001B[0;32m   1153\u001B[0m     \u001B[38;5;28;01mreturn\u001B[39;00m \u001B[38;5;28mself\u001B[39m\u001B[38;5;241m.\u001B[39m_values[label]\n\u001B[0;32m   1155\u001B[0m \u001B[38;5;66;03m# Similar to Index.get_value, but we do not fall back to positional\u001B[39;00m\n\u001B[1;32m-> 1156\u001B[0m loc \u001B[38;5;241m=\u001B[39m \u001B[38;5;28;43mself\u001B[39;49m\u001B[38;5;241;43m.\u001B[39;49m\u001B[43mindex\u001B[49m\u001B[38;5;241;43m.\u001B[39;49m\u001B[43mget_loc\u001B[49m\u001B[43m(\u001B[49m\u001B[43mlabel\u001B[49m\u001B[43m)\u001B[49m\n\u001B[0;32m   1158\u001B[0m \u001B[38;5;28;01mif\u001B[39;00m is_integer(loc):\n\u001B[0;32m   1159\u001B[0m     \u001B[38;5;28;01mreturn\u001B[39;00m \u001B[38;5;28mself\u001B[39m\u001B[38;5;241m.\u001B[39m_values[loc]\n",
      "File \u001B[1;32mD:\\Iseng\\Fruit_Vegetable_Recognition-master\\venv\\Lib\\site-packages\\pandas\\core\\indexes\\range.py:416\u001B[0m, in \u001B[0;36mRangeIndex.get_loc\u001B[1;34m(self, key)\u001B[0m\n\u001B[0;32m    414\u001B[0m         \u001B[38;5;28;01mreturn\u001B[39;00m \u001B[38;5;28mself\u001B[39m\u001B[38;5;241m.\u001B[39m_range\u001B[38;5;241m.\u001B[39mindex(new_key)\n\u001B[0;32m    415\u001B[0m     \u001B[38;5;28;01mexcept\u001B[39;00m \u001B[38;5;167;01mValueError\u001B[39;00m \u001B[38;5;28;01mas\u001B[39;00m err:\n\u001B[1;32m--> 416\u001B[0m         \u001B[38;5;28;01mraise\u001B[39;00m \u001B[38;5;167;01mKeyError\u001B[39;00m(key) \u001B[38;5;28;01mfrom\u001B[39;00m \u001B[38;5;21;01merr\u001B[39;00m\n\u001B[0;32m    417\u001B[0m \u001B[38;5;28;01mif\u001B[39;00m \u001B[38;5;28misinstance\u001B[39m(key, Hashable):\n\u001B[0;32m    418\u001B[0m     \u001B[38;5;28;01mraise\u001B[39;00m \u001B[38;5;167;01mKeyError\u001B[39;00m(key)\n",
      "\u001B[1;31mKeyError\u001B[0m: 0"
     ]
    },
    {
     "data": {
      "text/plain": "<Figure size 800x700 with 36 Axes>",
      "image/png": "[encoded data removed]"
     },
     "metadata": {},
     "output_type": "display_data"
    }
   ],
   "source": [
    "# Create a DataFrame with one Label of each category\n",
    "df_unique = train_df.copy().drop_duplicates(subset=[\"Label\"]).reset_index()\n",
    "\n",
    "# Display some pictures of the dataset\n",
    "fig, axes = plt.subplots(nrows=6, ncols=6, figsize=(8, 7),\n",
    "                        subplot_kw={'xticks': [], 'yticks': []})\n",
    "\n",
    "for i, ax in enumerate(axes.flat):\n",
    "    ax.imshow(plt.imread(df_unique.Filepath[i]))\n",
    "    ax.set_title(df_unique.Label[i], fontsize = 12)\n",
    "plt.tight_layout(pad=0.5)\n",
    "plt.show()"
   ]
  },
  {
   "cell_type": "code",
   "execution_count": null,
   "id": "726c5e0e",
   "metadata": {
    "execution": {
     "iopub.execute_input": "2021-11-02T04:13:16.181900Z",
     "iopub.status.busy": "2021-11-02T04:13:16.180971Z",
     "iopub.status.idle": "2021-11-02T04:13:16.183792Z",
     "shell.execute_reply": "2021-11-02T04:13:16.183306Z",
     "shell.execute_reply.started": "2021-11-02T04:11:43.469733Z"
    },
    "papermill": {
     "duration": 0.046673,
     "end_time": "2021-11-02T04:13:16.183927",
     "exception": false,
     "start_time": "2021-11-02T04:13:16.137254",
     "status": "completed"
    },
    "tags": [],
    "ExecuteTime": {
     "end_time": "2023-11-14T22:18:02.549042500Z",
     "start_time": "2023-11-14T22:18:02.540504900Z"
    }
   },
   "outputs": [],
   "source": [
    "train_generator = tf.keras.preprocessing.image.ImageDataGenerator(\n",
    "    preprocessing_function=tf.keras.applications.mobilenet_v2.preprocess_input\n",
    ")\n",
    "\n",
    "test_generator = tf.keras.preprocessing.image.ImageDataGenerator(\n",
    "    preprocessing_function=tf.keras.applications.mobilenet_v2.preprocess_input\n",
    ")"
   ]
  },
  {
   "cell_type": "code",
   "execution_count": null,
   "id": "412ef763",
   "metadata": {
    "execution": {
     "iopub.execute_input": "2021-11-02T04:13:16.266539Z",
     "iopub.status.busy": "2021-11-02T04:13:16.265850Z",
     "iopub.status.idle": "2021-11-02T04:13:17.374402Z",
     "shell.execute_reply": "2021-11-02T04:13:17.374945Z",
     "shell.execute_reply.started": "2021-11-02T04:11:44.672539Z"
    },
    "papermill": {
     "duration": 1.153017,
     "end_time": "2021-11-02T04:13:17.375112",
     "exception": false,
     "start_time": "2021-11-02T04:13:16.222095",
     "status": "completed"
    },
    "tags": [],
    "ExecuteTime": {
     "start_time": "2023-11-14T22:18:02.543029500Z"
    }
   },
   "outputs": [],
   "source": [
    "train_images = train_generator.flow_from_dataframe(\n",
    "    dataframe=train_df,\n",
    "    x_col='Filepath',\n",
    "    y_col='Label',\n",
    "    target_size=(224, 224),\n",
    "    color_mode='rgb',\n",
    "    class_mode='categorical',\n",
    "    batch_size=32,\n",
    "    shuffle=True,\n",
    "    seed=0,\n",
    "    rotation_range=30,\n",
    "    zoom_range=0.15,\n",
    "    width_shift_range=0.2,\n",
    "    height_shift_range=0.2,\n",
    "    shear_range=0.15,\n",
    "    horizontal_flip=True,\n",
    "    fill_mode=\"nearest\"\n",
    ")"
   ]
  },
  {
   "cell_type": "code",
   "execution_count": null,
   "id": "fe1d1204",
   "metadata": {
    "execution": {
     "iopub.execute_input": "2021-11-02T04:13:17.463897Z",
     "iopub.status.busy": "2021-11-02T04:13:17.458664Z",
     "iopub.status.idle": "2021-11-02T04:13:17.576668Z",
     "shell.execute_reply": "2021-11-02T04:13:17.575749Z",
     "shell.execute_reply.started": "2021-11-02T04:11:45.920630Z"
    },
    "papermill": {
     "duration": 0.160302,
     "end_time": "2021-11-02T04:13:17.576817",
     "exception": false,
     "start_time": "2021-11-02T04:13:17.416515",
     "status": "completed"
    },
    "tags": [],
    "ExecuteTime": {
     "start_time": "2023-11-14T22:18:02.544756100Z"
    }
   },
   "outputs": [],
   "source": [
    "val_images = train_generator.flow_from_dataframe(\n",
    "    dataframe=val_df,\n",
    "    x_col='Filepath',\n",
    "    y_col='Label',\n",
    "    target_size=(224, 224),\n",
    "    color_mode='rgb',\n",
    "    class_mode='categorical',\n",
    "    batch_size=32,\n",
    "    shuffle=True,\n",
    "    seed=0,\n",
    "    rotation_range=30,\n",
    "    zoom_range=0.15,\n",
    "    width_shift_range=0.2,\n",
    "    height_shift_range=0.2,\n",
    "    shear_range=0.15,\n",
    "    horizontal_flip=True,\n",
    "    fill_mode=\"nearest\"\n",
    ")"
   ]
  },
  {
   "cell_type": "code",
   "execution_count": null,
   "id": "fe81357a",
   "metadata": {
    "execution": {
     "iopub.execute_input": "2021-11-02T04:13:17.662940Z",
     "iopub.status.busy": "2021-11-02T04:13:17.662340Z",
     "iopub.status.idle": "2021-11-02T04:13:17.671190Z",
     "shell.execute_reply": "2021-11-02T04:13:17.671770Z",
     "shell.execute_reply.started": "2021-11-02T04:11:48.652854Z"
    },
    "papermill": {
     "duration": 0.055483,
     "end_time": "2021-11-02T04:13:17.671924",
     "exception": false,
     "start_time": "2021-11-02T04:13:17.616441",
     "status": "completed"
    },
    "tags": [],
    "ExecuteTime": {
     "start_time": "2023-11-14T22:18:02.546780300Z"
    }
   },
   "outputs": [],
   "source": [
    "test_images = test_generator.flow_from_dataframe(\n",
    "    dataframe=test_df,\n",
    "    x_col='Filepath',\n",
    "    y_col='Label',\n",
    "    target_size=(224, 224),\n",
    "    color_mode='rgb',\n",
    "    class_mode='categorical',\n",
    "    batch_size=32,\n",
    "    shuffle=False\n",
    ")"
   ]
  },
  {
   "cell_type": "code",
   "execution_count": null,
   "id": "04c38c17",
   "metadata": {
    "execution": {
     "iopub.execute_input": "2021-11-02T04:13:17.755230Z",
     "iopub.status.busy": "2021-11-02T04:13:17.754369Z",
     "iopub.status.idle": "2021-11-02T04:13:19.035013Z",
     "shell.execute_reply": "2021-11-02T04:13:19.035515Z",
     "shell.execute_reply.started": "2021-11-02T04:11:53.021156Z"
    },
    "papermill": {
     "duration": 1.323729,
     "end_time": "2021-11-02T04:13:19.035695",
     "exception": false,
     "start_time": "2021-11-02T04:13:17.711966",
     "status": "completed"
    },
    "tags": [],
    "ExecuteTime": {
     "start_time": "2023-11-14T22:18:02.547936700Z"
    }
   },
   "outputs": [],
   "source": [
    "pretrained_model = tf.keras.applications.MobileNetV2(\n",
    "    input_shape=(224, 224, 3),\n",
    "    include_top=False,\n",
    "    weights='imagenet',\n",
    "    pooling='avg'\n",
    ")\n",
    "pretrained_model.trainable = False"
   ]
  },
  {
   "cell_type": "code",
   "execution_count": null,
   "id": "0ca682b9",
   "metadata": {
    "execution": {
     "iopub.execute_input": "2021-11-02T04:13:19.131815Z",
     "iopub.status.busy": "2021-11-02T04:13:19.131122Z",
     "iopub.status.idle": "2021-11-02T04:31:02.144919Z",
     "shell.execute_reply": "2021-11-02T04:31:02.145666Z"
    },
    "papermill": {
     "duration": 1063.069756,
     "end_time": "2021-11-02T04:31:02.146034",
     "exception": false,
     "start_time": "2021-11-02T04:13:19.076278",
     "status": "completed"
    },
    "tags": [],
    "ExecuteTime": {
     "start_time": "2023-11-14T22:18:02.550045500Z"
    }
   },
   "outputs": [],
   "source": [
    "inputs = pretrained_model.input\n",
    "\n",
    "x = tf.keras.layers.Dense(128, activation='relu')(pretrained_model.output)\n",
    "x = tf.keras.layers.Dense(128, activation='relu')(x)\n",
    "\n",
    "outputs = tf.keras.layers.Dense(36, activation='softmax')(x)\n",
    "\n",
    "model = tf.keras.Model(inputs=inputs, outputs=outputs)\n",
    "\n",
    "model.compile(\n",
    "    optimizer='adam',\n",
    "    loss='categorical_crossentropy',\n",
    "    metrics=['accuracy']\n",
    ")\n",
    "\n",
    "history = model.fit(\n",
    "    train_images,\n",
    "    validation_data=val_images,\n",
    "    batch_size = 32,\n",
    "    epochs=5,\n",
    "    callbacks=[\n",
    "        tf.keras.callbacks.EarlyStopping(\n",
    "            monitor='val_loss',\n",
    "            patience=2,\n",
    "            restore_best_weights=True\n",
    "        )\n",
    "    ]\n",
    ")"
   ]
  },
  {
   "cell_type": "code",
   "execution_count": null,
   "id": "a53e0525",
   "metadata": {
    "execution": {
     "iopub.execute_input": "2021-11-02T04:31:02.549385Z",
     "iopub.status.busy": "2021-11-02T04:31:02.548687Z",
     "iopub.status.idle": "2021-11-02T04:31:26.164039Z",
     "shell.execute_reply": "2021-11-02T04:31:26.163494Z",
     "shell.execute_reply.started": "2021-10-21T13:12:06.535104Z"
    },
    "papermill": {
     "duration": 23.821524,
     "end_time": "2021-11-02T04:31:26.164167",
     "exception": false,
     "start_time": "2021-11-02T04:31:02.342643",
     "status": "completed"
    },
    "tags": [],
    "ExecuteTime": {
     "start_time": "2023-11-14T22:18:02.551049700Z"
    }
   },
   "outputs": [],
   "source": [
    "# Predict the label of the test_images\n",
    "pred = model.predict(test_images)\n",
    "pred = np.argmax(pred,axis=1)\n",
    "# Map the label\n",
    "labels = (train_images.class_indices)\n",
    "labels = dict((v,k) for k,v in labels.items())\n",
    "pred1 = [labels[k] for k in pred]\n",
    "pred1"
   ]
  },
  {
   "cell_type": "code",
   "execution_count": null,
   "id": "8d8f87b3",
   "metadata": {
    "execution": {
     "iopub.execute_input": "2021-11-02T04:31:26.560442Z",
     "iopub.status.busy": "2021-11-02T04:31:26.559801Z",
     "iopub.status.idle": "2021-11-02T04:31:26.565525Z",
     "shell.execute_reply": "2021-11-02T04:31:26.566083Z",
     "shell.execute_reply.started": "2021-10-21T13:12:26.534404Z"
    },
    "papermill": {
     "duration": 0.207631,
     "end_time": "2021-11-02T04:31:26.566270",
     "exception": false,
     "start_time": "2021-11-02T04:31:26.358639",
     "status": "completed"
    },
    "tags": [],
    "ExecuteTime": {
     "start_time": "2023-11-14T22:18:02.552188600Z"
    }
   },
   "outputs": [],
   "source": [
    "def output(location):\n",
    "    img=load_img(location,target_size=(224,224,3))\n",
    "    img=img_to_array(img)\n",
    "    img=img/255\n",
    "    img=np.expand_dims(img,[0])\n",
    "    answer=model.predict(img)\n",
    "    y_class = answer.argmax(axis=-1)\n",
    "    y = \" \".join(str(x) for x in y_class)\n",
    "    y = int(y)\n",
    "    res = labels[y]\n",
    "    return res"
   ]
  },
  {
   "cell_type": "code",
   "execution_count": null,
   "id": "673ef9c8",
   "metadata": {
    "execution": {
     "iopub.execute_input": "2021-11-02T04:31:26.958120Z",
     "iopub.status.busy": "2021-11-02T04:31:26.957452Z",
     "iopub.status.idle": "2021-11-02T04:31:28.178053Z",
     "shell.execute_reply": "2021-11-02T04:31:28.178677Z",
     "shell.execute_reply.started": "2021-10-21T13:12:26.543016Z"
    },
    "papermill": {
     "duration": 1.419014,
     "end_time": "2021-11-02T04:31:28.178859",
     "exception": false,
     "start_time": "2021-11-02T04:31:26.759845",
     "status": "completed"
    },
    "tags": [],
    "ExecuteTime": {
     "start_time": "2023-11-14T22:18:02.553215900Z"
    }
   },
   "outputs": [],
   "source": [
    "img = output('../input/fruit-and-vegetable-image-recognition/test/cabbage/Image_1.jpg')\n",
    "img"
   ]
  },
  {
   "cell_type": "code",
   "execution_count": null,
   "id": "99a97c02",
   "metadata": {
    "execution": {
     "iopub.execute_input": "2021-11-02T04:31:28.576710Z",
     "iopub.status.busy": "2021-11-02T04:31:28.576072Z",
     "iopub.status.idle": "2021-11-02T04:31:28.888152Z",
     "shell.execute_reply": "2021-11-02T04:31:28.888651Z",
     "shell.execute_reply.started": "2021-10-21T13:15:16.791784Z"
    },
    "papermill": {
     "duration": 0.513092,
     "end_time": "2021-11-02T04:31:28.888839",
     "exception": false,
     "start_time": "2021-11-02T04:31:28.375747",
     "status": "completed"
    },
    "tags": [],
    "ExecuteTime": {
     "start_time": "2023-11-14T22:18:02.554215400Z"
    }
   },
   "outputs": [],
   "source": [
    "model.save('FV.h5')"
   ]
  },
  {
   "cell_type": "code",
   "execution_count": null,
   "id": "34db5d8a",
   "metadata": {
    "papermill": {
     "duration": 0.195092,
     "end_time": "2021-11-02T04:31:29.281451",
     "exception": false,
     "start_time": "2021-11-02T04:31:29.086359",
     "status": "completed"
    },
    "tags": [],
    "ExecuteTime": {
     "end_time": "2023-11-14T22:18:02.560958600Z",
     "start_time": "2023-11-14T22:18:02.554678600Z"
    }
   },
   "outputs": [],
   "source": []
  }
 ],
 "metadata": {
  "kernelspec": {
   "display_name": "Python 3",
   "language": "python",
   "name": "python3"
  },
  "language_info": {
   "codemirror_mode": {
    "name": "ipython",
    "version": 3
   },
   "file_extension": ".py",
   "mimetype": "text/x-python",
   "name": "python",
   "nbconvert_exporter": "python",
   "pygments_lexer": "ipython3",
   "version": "3.7.10"
  },
  "papermill": {
   "default_parameters": {},
   "duration": 1124.050414,
   "end_time": "2021-11-02T04:31:32.927130",
   "environment_variables": {},
   "exception": null,
   "input_path": "__notebook__.ipynb",
   "output_path": "__notebook__.ipynb",
   "parameters": {},
   "start_time": "2021-11-02T04:12:48.876716",
   "version": "2.3.3"
  }
 },
 "nbformat": 4,
 "nbformat_minor": 5
}
